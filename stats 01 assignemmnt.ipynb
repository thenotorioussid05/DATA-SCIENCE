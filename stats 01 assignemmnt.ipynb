{
 "cells": [
  {
   "cell_type": "code",
   "execution_count": 1,
   "id": "84c770be-6b80-4fa4-aa7c-01d781f31811",
   "metadata": {},
   "outputs": [],
   "source": [
    "##Q1"
   ]
  },
  {
   "cell_type": "code",
   "execution_count": 2,
   "id": "b4a25327-4cfc-4e3a-933a-38aabba4b60c",
   "metadata": {},
   "outputs": [],
   "source": [
    "##Statistics in data science is the study of how to collect, analyze, interpret, and present data. It is a branch of mathematics that deals with the analysis of data, which can be used to gain insights, make predictions, and inform decision-making.\n",
    "\n",
    "##In data science, statistics is used to summarize and describe data through measures such as mean, median, mode, and standard deviation. It is also used to test hypotheses and make inferences about populations based on samples of data. Additionally, statistical models are used to make predictions and identify relationships between variables."
   ]
  },
  {
   "cell_type": "code",
   "execution_count": 3,
   "id": "b2c38f63-b5d8-4404-befe-7a0780d62a34",
   "metadata": {},
   "outputs": [],
   "source": [
    "##Q2"
   ]
  },
  {
   "cell_type": "code",
   "execution_count": 4,
   "id": "7f052afa-be2e-4eb5-a1fc-fdfb7d00d93d",
   "metadata": {},
   "outputs": [],
   "source": [
    "##here are two major types of Statistics:\n",
    "\n",
    "  ##  Descriptive Statistics: Descriptive statistics involves the collection, analysis, and presentation of data to summarize and describe characteristics of a dataset. It is used to provide a concise and meaningful summary of data through measures such as central tendency, variability, and shape. Descriptive statistics is generally used when data is available for the entire population of interest, or when a sample is used to estimate population parameters.\n",
    "\n",
    "   ## Example of descriptive statistics: A researcher collects data on the heights of 100 students in a school. The researcher uses descriptive statistics to summarize the data by calculating the mean height, standard deviation, and creating a histogram to visualize the distribution of heights.\n",
    "\n",
    "    ##Inferential Statistics: Inferential statistics involves making predictions or generalizations about a population based on data from a sample. It is used to draw conclusions or test hypotheses about the population using the sample data. Inferential statistics is generally used when data is not available for the entire population, and a sample is used to make inferences about the population.\n",
    "\n",
    "    ##Example of inferential statistics: A company wants to determine whether a new product will be successful among its target market. The company collects a sample of data from a group of customers who have purchased the product and uses inferential statistics to determine whether the data supports the conclusion that the product will be successful among the entire target market. The company may use techniques such as hypothesis testing, confidence intervals, or regression analysis to draw conclusions about the population.\n"
   ]
  },
  {
   "cell_type": "code",
   "execution_count": 5,
   "id": "3dd2bd95-9ce0-49a9-ae9b-6dda84c86335",
   "metadata": {},
   "outputs": [],
   "source": [
    "##Q3"
   ]
  },
  {
   "cell_type": "code",
   "execution_count": 6,
   "id": "e8093f23-c71a-4d90-8b03-aabf7da93c96",
   "metadata": {},
   "outputs": [],
   "source": [
    "##The two major types of data are:\n",
    "\n",
    "  ##  Quantitative Data: When data is collected about a variable that can be measured with numerical values, it is called quantitative data.\n",
    "\n",
    "  ## Examples of quantitative data include age, height, weight, and number of hours worked.\n",
    "\n",
    "   ## Qualitative Data: When data is collected about a variable that represents categories or attributes, it is called qualitative data.\n",
    "\n",
    "  ##  Examples of qualitative data include gender, occupation, color, and type of car.\n",
    "\n",
    "##Therefore, the type of data collected is determined by the nature of the variable being measured. If the variable is numeric, the resulting data will be quantitative. If the variable is categorical, the resulting data will be qualitative. Both types of data play an important role in statistical analysis and can provide valuable insights depending on the research question and context."
   ]
  },
  {
   "cell_type": "code",
   "execution_count": 7,
   "id": "9e67cf1c-708a-4308-a481-3edc2ee96a8d",
   "metadata": {},
   "outputs": [],
   "source": [
    "##Q4"
   ]
  },
  {
   "cell_type": "code",
   "execution_count": 8,
   "id": "91efc8b9-8c7b-4586-9632-868c12908839",
   "metadata": {},
   "outputs": [],
   "source": [
    "\n",
    "  ##  Grading in exam: A+, A, B+, B, C+, C, D, E\n",
    "\n",
    "   ## Qualitative (Categorical) Data Type\n",
    "\n",
    "   ## Colour of mangoes: yellow, green, orange, red\n",
    "\n",
    "   ## Qualitative (Categorical) Data Type\n",
    "\n",
    "   ## Height data of a class: [178.9, 179, 179.5, 176, 177.2, 178.3, 175.8,...]\n",
    "\n",
    "##    Quantitative (Continuous) Data Type\n",
    "\n",
    "  ##  Number of mangoes exported by a farm: [500, 600, 478, 672, ...]\n",
    "\n",
    "    ##Quantitative (Discrete) Data Type\n"
   ]
  },
  {
   "cell_type": "code",
   "execution_count": 9,
   "id": "afa70a04-cdd2-4ca1-a2f9-7b88d0a3c755",
   "metadata": {},
   "outputs": [],
   "source": [
    "##Q5"
   ]
  },
  {
   "cell_type": "code",
   "execution_count": 10,
   "id": "821a9e24-ced4-4bc3-9da1-368285c14c57",
   "metadata": {},
   "outputs": [],
   "source": [
    "\n",
    "  ##  Nominal Level: You can categorize your data by labelling them in mutually exclusive groups, but there is no order between the categories.\n",
    "\n",
    "   ## Examples: City of birth, Gender, Ethnicity, Car brands, Marital status\n",
    "\n",
    "    ##Ordinal Level: You can categorize and rank your data in an order, but you cannot say anything about the intervals between the rankings.\n",
    "\n",
    "##Although you can rank the top 5 Olympic medallists, this scale does not tell you how close or far apart they are in number of wins.\n",
    "\n",
    "  ##  Examples: Top 5 Olympic medallists, Language ability (e.g., beginner, intermediate, fluent)\n",
    "\n",
    "    ##Interval Level:\n",
    "\n",
    "##You can categorize, rank, and infer equal intervals between neighboring data points, but there is no true zero point.\n",
    "\n",
    "  ##  For example, the difference between any two adjacent temperatures is the same: one degree. But zero degrees is defined differently depending on the scale – it doesn’t mean an absolute absence of temperature.\n",
    "    ##Other Examples: Test scores (e.g., IQ or exams), Personality inventories, Temperature in Fahrenheit or Celsius\n",
    "\n",
    "    ##Ratio Level: You can categorize, rank, and infer equal intervals between neighboring data points, and there is a true zero point.\n",
    "\n",
    "##A true zero means there is an absence of the variable of interest. In ratio scales, zero does mean an absolute lack of the variable.\n",
    "\n",
    "  ##  For example, in the Kelvin temperature scale, there are no negative degrees of temperature – zero means an absolute lack of thermal energy.\n",
    "    ##Other Exmaples: Height, Age, Weight\n"
   ]
  },
  {
   "cell_type": "code",
   "execution_count": 11,
   "id": "35fa4eab-1083-4547-9b70-4f2cbea24114",
   "metadata": {},
   "outputs": [],
   "source": [
    "##Q6"
   ]
  },
  {
   "cell_type": "code",
   "execution_count": 12,
   "id": "576e8c97-45cf-47d8-ab68-6964362d253b",
   "metadata": {},
   "outputs": [],
   "source": [
    "##Understanding the level of measurement is important when analyzing data because it determines the type of statistical analyses that can be performed on the data, as well as the appropriate way to interpret the results. Different types of statistical analysis are suited for different levels of measurement, and using an inappropriate analysis can result in inaccurate conclusions.\n",
    "\n",
    "##If a variable is nominal, it is inappropriate to perform calculations such as mean or standard deviation, as these statistics are not meaningful for categorical data. Instead, appropriate measures for nominal data include frequency counts and percentages. If a variable is ordinal, it is appropriate to use measures such as median or mode, but not mean, as the ranking of the values does not necessarily correspond to equal intervals. If a variable is interval or ratio, all three measures (mean, median, and mode) can be used, as well as measures such as standard deviation and correlation.\n",
    "\n",
    "  ##  An example to illustrate the importance of understanding the level of measurement is the analysis of income data. If income is measured as a nominal variable with categories such as \"less than 20,000\", \"20,000 to 40,000\", and \"more than 40,000\", it would be inappropriate to calculate the mean income, as the categories do not represent equal intervals. Instead, appropriate measures would include the frequency counts and percentages of individuals in each income category. If income is measured as a ratio variable in dollars, the mean income can be calculated and compared across different groups or time periods, and statistical tests such as t-tests or ANOVA can be used to determine whether there are significant differences in income between groups.\n"
   ]
  },
  {
   "cell_type": "code",
   "execution_count": 13,
   "id": "f6ac3046-2176-41a7-a50e-ab82dc8a7bd8",
   "metadata": {},
   "outputs": [],
   "source": [
    "##Q7"
   ]
  },
  {
   "cell_type": "code",
   "execution_count": 14,
   "id": "299e82d6-6423-41cf-96d0-244165769838",
   "metadata": {},
   "outputs": [],
   "source": [
    "##Nominal data is a type of categorical data where the categories are unordered and do not have any inherent ranking or order. Nominal data simply represents different categories or groups, without any implied order or hierarchy. Examples of nominal data include gender (male/female), hair color (blonde, brown, black, etc.), or political affiliation (Republican, Democrat, Independent, etc.).\n",
    "\n",
    "##Ordinal data, on the other hand, is also a type of categorical data, but the categories have a specific order or hierarchy. In other words, the categories can be ranked in a meaningful way. Examples of ordinal data include educational level (e.g. high school, some college, bachelor's degree, master's degree, etc.), socioeconomic status (e.g. low, middle, high), or level of agreement (e.g. strongly disagree, disagree, neutral, agree, strongly agree).\n",
    "\n",
    "##The main difference between nominal and ordinal data is that ordinal data has a specific order or ranking of the categories, while nominal data does not."
   ]
  },
  {
   "cell_type": "code",
   "execution_count": 15,
   "id": "f7000c18-9957-4d39-9be8-25ab1d59a545",
   "metadata": {},
   "outputs": [],
   "source": [
    "##Q8"
   ]
  },
  {
   "cell_type": "code",
   "execution_count": 16,
   "id": "ff00eb79-0c74-4b05-bbb3-43b3a990c095",
   "metadata": {},
   "outputs": [],
   "source": [
    "##A type of plot that can be used to display data in terms of range is a box plot (also known as a box-and-whisker plot). A box plot is a graphical representation of the distribution of a set of continuous data, using five summary statistics: the minimum value, the first quartile (Q1), the median, the third quartile (Q3), and the maximum value.\n",
    "\n",
    "  ##  For example, a box plot could be used to display the range of temperatures recorded in a city over a given period of time. The minimum and maximum values would be represented by the whiskers, and the box would represent the interquartile range (the middle 50% of the data). The median temperature would be represented by a line inside the box. This would allow for easy comparison of temperature ranges across different months or years, and also identify any unusually high or low temperatures as outliers.\n"
   ]
  },
  {
   "cell_type": "code",
   "execution_count": 17,
   "id": "f4b19b02-5047-4507-8bca-9cfca8ba3507",
   "metadata": {},
   "outputs": [],
   "source": [
    "##Q9"
   ]
  },
  {
   "cell_type": "code",
   "execution_count": 18,
   "id": "f7ed8c94-6212-4e56-a88d-bca84bdfe318",
   "metadata": {},
   "outputs": [],
   "source": [
    "##Descriptive statistics involves summarizing and describing the main features of a data set, such as measures of central tendency (mean, median, mode) and measures of dispersion (range, standard deviation, variance). Descriptive statistics is used to provide a snapshot or summary of the data, in order to gain an understanding of the characteristics and patterns of the data set.\n",
    "\n",
    "  ##  Examples of descriptive statistics include calculating the mean height of a group of people or the standard deviation of their weights.\n",
    "\n",
    "##Inferential statistics, on the other hand, involves using statistical methods to make inferences or draw conclusions about a population based on a sample of data. Inferential statistics is used to test hypotheses or answer research questions, by making predictions or generalizations about a larger group based on a smaller subset of data.\n",
    "\n",
    "  ##  Examples of inferential statistics include hypothesis testing, confidence intervals, and regression analysis.\n"
   ]
  },
  {
   "cell_type": "code",
   "execution_count": 19,
   "id": "1068f5f1-8d9b-416e-9def-cd725e9ef65c",
   "metadata": {},
   "outputs": [],
   "source": [
    "##Q10"
   ]
  },
  {
   "cell_type": "code",
   "execution_count": 20,
   "id": "87833c9d-84f1-42d8-8343-3e8ff4df4cfe",
   "metadata": {},
   "outputs": [],
   "source": [
    "##Some of the common Measures of Central Tendency used in Statistics are:\n",
    "\n",
    "  ##  Mean: The arithmetic mean, or average, is calculated by summing all the values in a dataset and dividing by the number of values. The mean is a useful measure of central tendency when the data is normally distributed and there are no extreme values or outliers.\n",
    "\n",
    "    ##Median: The median is the middle value in a dataset when the values are arranged in order. The median is useful when there are extreme values or outliers in the dataset, since it is not affected by these values in the same way as the mean.\n",
    "\n",
    "    ##Mode: The mode is the most common value in a dataset. The mode is useful when dealing with categorical data or discrete variables, where there may be several values that occur with the same frequency.\n",
    "\n",
    "##Some of the common Measures of Variability used in Statistics are:\n",
    "\n",
    "  ##  Range: The range is the difference between the largest and smallest values in a dataset. The range provides a simple measure of variability, but it can be sensitive to extreme values or outliers.\n",
    "\n",
    "    ##Variance: The variance measures the average squared deviation from the mean in a dataset. The variance is useful when you want to quantify the spread of a dataset, and it is used in many statistical tests and models.\n",
    "\n",
    "    ##Standard deviation: The standard deviation is the square root of the variance. The standard deviation provides a more intuitive measure of variability, since it is in the same units as the original data.\n"
   ]
  },
  {
   "cell_type": "code",
   "execution_count": null,
   "id": "d68a1a6c-01d4-4eee-a7c9-445e5322f1a4",
   "metadata": {},
   "outputs": [],
   "source": []
  }
 ],
 "metadata": {
  "kernelspec": {
   "display_name": "Python 3 (ipykernel)",
   "language": "python",
   "name": "python3"
  },
  "language_info": {
   "codemirror_mode": {
    "name": "ipython",
    "version": 3
   },
   "file_extension": ".py",
   "mimetype": "text/x-python",
   "name": "python",
   "nbconvert_exporter": "python",
   "pygments_lexer": "ipython3",
   "version": "3.10.8"
  }
 },
 "nbformat": 4,
 "nbformat_minor": 5
}
